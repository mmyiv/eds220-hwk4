{
 "cells": [
  {
   "cell_type": "markdown",
   "id": "48b6301c-f149-4ee0-89d9-cc6bd66ef906",
   "metadata": {
    "tags": []
   },
   "source": [
    "# Visualizing fire scars through false color\n",
    "\n",
    "Author: Michelle Yiv\n",
    "\n",
    "[Link to GitHub Repository](https://github.com/mmyiv/eds220-hwk4)"
   ]
  },
  {
   "cell_type": "markdown",
   "id": "05b606dc-6da1-40bd-82ba-77f447eb5112",
   "metadata": {
    "tags": []
   },
   "source": [
    "## About this notebook\n",
    "\n",
    "Dataset description:\n",
    "\n",
    "Purpose:\n",
    "    \n",
    "Analysis highlight list:\n",
    "    \n",
    "References to datasets:"
   ]
  }
 ],
 "metadata": {
  "kernelspec": {
   "display_name": "Anaconda 3 (EDS220)",
   "language": "python",
   "name": "eds220-env"
  },
  "language_info": {
   "codemirror_mode": {
    "name": "ipython",
    "version": 3
   },
   "file_extension": ".py",
   "mimetype": "text/x-python",
   "name": "python",
   "nbconvert_exporter": "python",
   "pygments_lexer": "ipython3",
   "version": "3.11.4"
  }
 },
 "nbformat": 4,
 "nbformat_minor": 5
}
