{
 "cells": [
  {
   "cell_type": "markdown",
   "id": "bca4741e-f2e5-4d4c-a98f-fb28238d43a8",
   "metadata": {},
   "source": [
    "# Thomas Fire Analysis\n",
    "\n",
    "Author: Michelle Yiv\n",
    "\n",
    "[Link to GitHub Repository](https://github.com/mmyiv/eds220-hwk4)"
   ]
  },
  {
   "cell_type": "markdown",
   "id": "4104b0a0-b1de-43d2-8c42-c8065d9fee39",
   "metadata": {},
   "source": [
    "## About this notebook\n",
    "\n",
    "#### Dataset description: \n",
    "California fire perimeter was published by CAL FIRE and contains information about fires in California. In addition to the geometries (perimeters) of each fire, there is information about the name, date, and acres burned.\n",
    "\n",
    "Landsat data contains both x,y coordinates and variables containing colors (R, G, B, NIR, SWIR) for plotting. This dataset contains the Santa Barbara location and surrounding areas. \n",
    "\n",
    "#### Purpose:\n",
    "The purpose of this notebook is to use Landsat data to visualize the Santa Barbara area and combine it with the Thomas Fire data to map the boundary of the fire. In addition to this, true and false color imagery is being used to visualize the scars from the fire.\n",
    "    \n",
    "#### Analysis highlight list:\n",
    "Landsat data was read in using an extension python package, `rioxarray`. After basic data exploration, a set of maps were produced by selecting specific colors, converting them to an array and plotting. Both true and false color images were plotted to display the extent of scarring from the 2017 Thomas fire, and to emphasize the difference between true and false color.\n",
    "    \n",
    "#### References to datasets:\n",
    "California Fire Perimeter.\n",
    "Date of access: 11-19-2024.\n",
    "[Link to data](https://catalog.data.gov/dataset/california-fire-perimeters-all-b3436)\n",
    "Citation: “Data.gov,” Data.gov, 2024. https://catalog.data.gov/dataset/california-fire-perimeters-all-b3436 (accessed Nov. 19, 2024).\n",
    "\n",
    "Landsat Data.\n",
    "Date of access: 11-19-2024.\n",
    "[Link to data](https://planetarycomputer.microsoft.com/dataset/landsat-c2-l2)\n",
    "Citation: “Microsoft Planetary Computer,” Microsoft.com, 2024. https://planetarycomputer.microsoft.com/dataset/landsat-c2-l2 (accessed Nov. 19, 2024)."
   ]
  },
  {
   "cell_type": "markdown",
   "id": "908189f6-650a-49bf-b850-d0f5be0b26e2",
   "metadata": {},
   "source": [
    "## Retreiving the boundary of the 2017 Thomas Fire"
   ]
  },
  {
   "cell_type": "code",
   "execution_count": 2,
   "id": "24c6cd03-720f-4397-b176-ecb764f53912",
   "metadata": {
    "tags": []
   },
   "outputs": [],
   "source": [
    "# Import libraries\n",
    "import os\n",
    "import pandas as pd\n",
    "import geopandas as gpd\n",
    "import numpy as np\n",
    "import xarray as xr\n",
    "import rioxarray as rioxr\n",
    "import matplotlib.pyplot as plt"
   ]
  },
  {
   "cell_type": "code",
   "execution_count": 3,
   "id": "88e2541c-ecf8-4716-a83a-ec70bd18b4fe",
   "metadata": {
    "tags": []
   },
   "outputs": [],
   "source": [
    "# Load in data\n",
    "fp = os.path.join('data', 'California_Fire_Perimeters_(all).shp')\n",
    "fire = gpd.read_file(fp)"
   ]
  },
  {
   "cell_type": "code",
   "execution_count": null,
   "id": "93d8fe61-b7ce-4873-935f-bdce7455e371",
   "metadata": {},
   "outputs": [],
   "source": [
    "# Select 2017 Thomas Fire boundary by name and year\n",
    "thomas_fire = fire[(fire['FIRE_NAME']=='THOMAS') & (fire['YEAR_']==2017)]\n",
    "\n",
    "# Verify changes in GeoDataFrame\n",
    "thomas_fire\n",
    "\n",
    "# Verify changes visually\n",
    "thomas_fire.plot()"
   ]
  },
  {
   "cell_type": "markdown",
   "id": "61f51346-b34a-42f2-95bc-d4d7efe4fca7",
   "metadata": {},
   "source": [
    "## True and False Color Imagery of the Thomas Fire"
   ]
  }
 ],
 "metadata": {
  "kernelspec": {
   "display_name": "Anaconda 3 (Base)",
   "language": "python",
   "name": "base"
  },
  "language_info": {
   "codemirror_mode": {
    "name": "ipython",
    "version": 3
   },
   "file_extension": ".py",
   "mimetype": "text/x-python",
   "name": "python",
   "nbconvert_exporter": "python",
   "pygments_lexer": "ipython3",
   "version": "3.9.13"
  }
 },
 "nbformat": 4,
 "nbformat_minor": 5
}
