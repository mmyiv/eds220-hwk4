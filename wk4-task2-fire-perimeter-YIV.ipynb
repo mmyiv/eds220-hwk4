{
 "cells": [
  {
   "cell_type": "markdown",
   "id": "74b4383b-679b-4aab-8e82-854a14518e62",
   "metadata": {},
   "source": [
    "# Fire perimeter data retrieval and selection\n",
    "\n",
    "Author: Michelle Yiv\n",
    "\n",
    "[Link to GitHub Repository](https://github.com/mmyiv/eds220-hwk4)"
   ]
  },
  {
   "cell_type": "markdown",
   "id": "26a382bb-a591-4b6b-aacb-166e1a19dc1a",
   "metadata": {
    "tags": []
   },
   "source": [
    "## About this notebook\n",
    "\n",
    "Dataset description:\n",
    "\n",
    "Purpose:\n",
    "    \n",
    "Analysis highlight list:\n",
    "    \n",
    "References to datasets:"
   ]
  },
  {
   "cell_type": "code",
   "execution_count": 9,
   "id": "25abe247-3671-4243-ad7b-6c8f3518dc7a",
   "metadata": {
    "tags": []
   },
   "outputs": [],
   "source": [
    "# Import libraties\n",
    "\n",
    "import os\n",
    "import pandas as pd\n",
    "import geopandas as gpd\n",
    "import numpy as np"
   ]
  },
  {
   "cell_type": "code",
   "execution_count": null,
   "id": "53d6e627-4509-4dc6-9a4f-2c8ac9902469",
   "metadata": {
    "tags": []
   },
   "outputs": [
    {
     "name": "stderr",
     "output_type": "stream",
     "text": [
      "ERROR 1: PROJ: proj_create_from_database: Open of /opt/anaconda3/envs/eds220-env/share/proj failed\n"
     ]
    }
   ],
   "source": [
    "# Load in data\n",
    "fp = os.path.join('data', 'California_Fire_Perimeters_(all).shp')\n",
    "fire = gpd.read_file(fp)"
   ]
  },
  {
   "cell_type": "markdown",
   "id": "c8e813d1-e993-447e-8110-d9d5d3faab1c",
   "metadata": {},
   "source": [
    "Data Exploration:"
   ]
  },
  {
   "cell_type": "code",
   "execution_count": null,
   "id": "42f55c49-8f89-4875-babf-a9d9f9a1ad59",
   "metadata": {},
   "outputs": [],
   "source": []
  },
  {
   "cell_type": "markdown",
   "id": "dd1aa588-9341-48d6-9fa9-5ac542d5ddcb",
   "metadata": {},
   "source": [
    "Summary of information from data exploration.\n",
    "- CRS of the data\n",
    "- whether this is projected or geographic."
   ]
  },
  {
   "cell_type": "code",
   "execution_count": 5,
   "id": "b8bd316a-487f-4614-93ea-80e4d37c9780",
   "metadata": {
    "tags": []
   },
   "outputs": [],
   "source": [
    "# Select 2017 Thomas Fire boundary"
   ]
  },
  {
   "cell_type": "code",
   "execution_count": 6,
   "id": "6c143fc3-eefd-43a0-8b22-d7dd7c5c6095",
   "metadata": {
    "tags": []
   },
   "outputs": [],
   "source": [
    "# Save file "
   ]
  },
  {
   "cell_type": "code",
   "execution_count": 7,
   "id": "3d0c5fb5-4f2d-4568-9a4b-3477752b02d7",
   "metadata": {
    "tags": []
   },
   "outputs": [],
   "source": [
    "# Explanation"
   ]
  }
 ],
 "metadata": {
  "kernelspec": {
   "display_name": "Anaconda 3 (EDS220)",
   "language": "python",
   "name": "eds220-env"
  },
  "language_info": {
   "codemirror_mode": {
    "name": "ipython",
    "version": 3
   },
   "file_extension": ".py",
   "mimetype": "text/x-python",
   "name": "python",
   "nbconvert_exporter": "python",
   "pygments_lexer": "ipython3",
   "version": "3.11.4"
  }
 },
 "nbformat": 4,
 "nbformat_minor": 5
}
