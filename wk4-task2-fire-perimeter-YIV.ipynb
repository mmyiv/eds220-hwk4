{
 "cells": [
  {
   "cell_type": "markdown",
   "id": "74b4383b-679b-4aab-8e82-854a14518e62",
   "metadata": {},
   "source": [
    "# Fire perimeter data retrieval and selection\n",
    "\n",
    "Author: Michelle Yiv\n",
    "\n",
    "[Link to GitHub Repository](https://github.com/mmyiv/eds220-hwk4)"
   ]
  },
  {
   "cell_type": "markdown",
   "id": "26a382bb-a591-4b6b-aacb-166e1a19dc1a",
   "metadata": {
    "tags": []
   },
   "source": [
    "## About this notebook\n",
    "\n",
    "Dataset description:\n",
    "\n",
    "Purpose:\n",
    "    \n",
    "Analysis highlight list:\n",
    "    \n",
    "References to datasets:"
   ]
  }
 ],
 "metadata": {
  "kernelspec": {
   "display_name": "Anaconda 3 (EDS220)",
   "language": "python",
   "name": "eds220-env"
  },
  "language_info": {
   "codemirror_mode": {
    "name": "ipython",
    "version": 3
   },
   "file_extension": ".py",
   "mimetype": "text/x-python",
   "name": "python",
   "nbconvert_exporter": "python",
   "pygments_lexer": "ipython3",
   "version": "3.11.4"
  }
 },
 "nbformat": 4,
 "nbformat_minor": 5
}
